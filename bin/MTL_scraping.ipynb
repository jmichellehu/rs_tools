{
 "cells": [
  {
   "cell_type": "code",
   "execution_count": 6,
   "metadata": {},
   "outputs": [],
   "source": [
    "# Attempt to read in Mp,  Ap, and sunelev values from input MTL.txt file. Adapted from week02 gda words exercise\n",
    "\n",
    "L8_dir = \"/Volumes/GoogleDrive/My Drive/UW-Lab/Project/LANDSAT_data/Bulk Order 961649/Landsat 8 OLI_TIRS C1 Level-1/LC08_L1TP_034034_20170216_20170228_01_T1/\"\n",
    "\n",
    "fn = L8_dir + \"LC08_L1TP_034034_20170216_20170228_01_T1_MTL.txt\""
   ]
  },
  {
   "cell_type": "code",
   "execution_count": 31,
   "metadata": {},
   "outputs": [],
   "source": [
    "# Initialize empty array for the lines of text\n",
    "mtl_list = []\n",
    "\n",
    "with open(fn, 'r') as f:\n",
    "    for line in f:\n",
    "        # strip the trailing newline character\n",
    "        line=line.rstrip()\n",
    "        # and strip the leading whitespaces, newline, and tab characters\n",
    "        line=line.lstrip()\n",
    "        mtl_list.append(line)\n",
    "    "
   ]
  },
  {
   "cell_type": "code",
   "execution_count": 32,
   "metadata": {},
   "outputs": [
    {
     "data": {
      "text/plain": [
       "225"
      ]
     },
     "execution_count": 32,
     "metadata": {},
     "output_type": "execute_result"
    }
   ],
   "source": [
    "# Total number of lines\n",
    "len(mtl_list)"
   ]
  },
  {
   "cell_type": "code",
   "execution_count": 33,
   "metadata": {},
   "outputs": [
    {
     "data": {
      "text/plain": [
       "7624"
      ]
     },
     "execution_count": 33,
     "metadata": {},
     "output_type": "execute_result"
    }
   ],
   "source": [
    "# Total number of characters\n",
    "sum([len(word) for word in mtl_list])"
   ]
  },
  {
   "cell_type": "code",
   "execution_count": 34,
   "metadata": {},
   "outputs": [
    {
     "name": "stdout",
     "output_type": "stream",
     "text": [
      "['GROUP = L1_METADATA_FILE', 'GROUP = METADATA_FILE_INFO', 'ORIGIN = \"Image courtesy of the U.S. Geological Survey\"'] \n",
      "\n",
      "['END_GROUP = PROJECTION_PARAMETERS', 'END_GROUP = L1_METADATA_FILE', 'END']\n"
     ]
    }
   ],
   "source": [
    "# Print first 3 lines\n",
    "print(mtl_list[:3], \"\\n\")\n",
    "\n",
    "# Print last 3 lines\n",
    "print(mtl_list[-3:])"
   ]
  },
  {
   "cell_type": "code",
   "execution_count": 133,
   "metadata": {},
   "outputs": [],
   "source": [
    "# import regular expression library\n",
    "import re\n",
    "\n",
    "# regular expression is raw string literal of \"K1\" with stuff after it\n",
    "Mp_pattern=re.compile(r\"(REFLECTANCE_MULT).*\")\n",
    "Ap_pattern=re.compile(r\"(REFLECTANCE_ADD).*\")\n",
    "Sun_pattern=re.compile(r\"(SUN_).*\")\n",
    "# iterate through each line in the list, for each line, see if there is a match to the regular expression and return that line to the variable x\n",
    "\n",
    "Mp_list = [m.group() for line in mtl_list for m in [Mp_pattern.search(line)] if m]\n",
    "\n",
    "Ap_list = [m.group() for line in mtl_list for m in [Ap_pattern.search(line)] if m]\n",
    "\n",
    "Sun_list = [m.group() for line in mtl_list for m in [Sun_pattern.search(line)] if m]\n",
    "\n"
   ]
  },
  {
   "cell_type": "code",
   "execution_count": 134,
   "metadata": {},
   "outputs": [
    {
     "data": {
      "text/plain": [
       "['REFLECTANCE_MULT_BAND_1 = 2.0000E-05',\n",
       " 'REFLECTANCE_MULT_BAND_2 = 2.0000E-05',\n",
       " 'REFLECTANCE_MULT_BAND_3 = 2.0000E-05',\n",
       " 'REFLECTANCE_MULT_BAND_4 = 2.0000E-05',\n",
       " 'REFLECTANCE_MULT_BAND_5 = 2.0000E-05',\n",
       " 'REFLECTANCE_MULT_BAND_6 = 2.0000E-05',\n",
       " 'REFLECTANCE_MULT_BAND_7 = 2.0000E-05',\n",
       " 'REFLECTANCE_MULT_BAND_8 = 2.0000E-05',\n",
       " 'REFLECTANCE_MULT_BAND_9 = 2.0000E-05']"
      ]
     },
     "execution_count": 134,
     "metadata": {},
     "output_type": "execute_result"
    }
   ],
   "source": [
    "Mp_list"
   ]
  },
  {
   "cell_type": "code",
   "execution_count": 135,
   "metadata": {},
   "outputs": [
    {
     "data": {
      "text/plain": [
       "['REFLECTANCE_ADD_BAND_1 = -0.100000',\n",
       " 'REFLECTANCE_ADD_BAND_2 = -0.100000',\n",
       " 'REFLECTANCE_ADD_BAND_3 = -0.100000',\n",
       " 'REFLECTANCE_ADD_BAND_4 = -0.100000',\n",
       " 'REFLECTANCE_ADD_BAND_5 = -0.100000',\n",
       " 'REFLECTANCE_ADD_BAND_6 = -0.100000',\n",
       " 'REFLECTANCE_ADD_BAND_7 = -0.100000',\n",
       " 'REFLECTANCE_ADD_BAND_8 = -0.100000',\n",
       " 'REFLECTANCE_ADD_BAND_9 = -0.100000']"
      ]
     },
     "execution_count": 135,
     "metadata": {},
     "output_type": "execute_result"
    }
   ],
   "source": [
    "Ap_list"
   ]
  },
  {
   "cell_type": "code",
   "execution_count": 136,
   "metadata": {},
   "outputs": [
    {
     "data": {
      "text/plain": [
       "['SUN_AZIMUTH = 150.60566642',\n",
       " 'SUN_ELEVATION = 35.51700474',\n",
       " 'SUN_DISTANCE = 0.9880613']"
      ]
     },
     "execution_count": 136,
     "metadata": {},
     "output_type": "execute_result"
    }
   ],
   "source": [
    "Sun_list"
   ]
  },
  {
   "cell_type": "code",
   "execution_count": 137,
   "metadata": {},
   "outputs": [
    {
     "data": {
      "text/plain": [
       "['2.0000E-05',\n",
       " '2.0000E-05',\n",
       " '2.0000E-05',\n",
       " '2.0000E-05',\n",
       " '2.0000E-05',\n",
       " '2.0000E-05',\n",
       " '2.0000E-05',\n",
       " '2.0000E-05',\n",
       " '2.0000E-05']"
      ]
     },
     "execution_count": 137,
     "metadata": {},
     "output_type": "execute_result"
    }
   ],
   "source": [
    "# extract corresponding value (i.e. the bit after \" = \")\n",
    "Mp_val = [val.split(' = ')[1] for val in Mp_list]\n",
    "Mp_val"
   ]
  },
  {
   "cell_type": "code",
   "execution_count": 138,
   "metadata": {},
   "outputs": [
    {
     "data": {
      "text/plain": [
       "['-0.100000',\n",
       " '-0.100000',\n",
       " '-0.100000',\n",
       " '-0.100000',\n",
       " '-0.100000',\n",
       " '-0.100000',\n",
       " '-0.100000',\n",
       " '-0.100000',\n",
       " '-0.100000']"
      ]
     },
     "execution_count": 138,
     "metadata": {},
     "output_type": "execute_result"
    }
   ],
   "source": [
    "# extract corresponding value (i.e. the bit after \" = \")\n",
    "Ap_val = [val.split(' = ')[1] for val in Ap_list]\n",
    "Ap_val"
   ]
  },
  {
   "cell_type": "code",
   "execution_count": 139,
   "metadata": {},
   "outputs": [
    {
     "data": {
      "text/plain": [
       "['150.60566642', '35.51700474', '0.9880613']"
      ]
     },
     "execution_count": 139,
     "metadata": {},
     "output_type": "execute_result"
    }
   ],
   "source": [
    "Sun_val = [val.split(' = ')[1] for val in Sun_list]\n",
    "Sun_val"
   ]
  },
  {
   "cell_type": "code",
   "execution_count": 140,
   "metadata": {},
   "outputs": [],
   "source": [
    "# Check that values for Mp are equivalent (for all the bands), sourced from https://stackoverflow.com/questions/3844801/check-if-all-elements-in-a-list-are-identical\n",
    "\n",
    "def checkEqual3(some_list):\n",
    "    # return boolean of equality for 2nd element to end and 1st element to penultimate\n",
    "   return some_list[1:] == some_list[:-1]"
   ]
  },
  {
   "cell_type": "code",
   "execution_count": 128,
   "metadata": {},
   "outputs": [
    {
     "name": "stdout",
     "output_type": "stream",
     "text": [
      "['2.0000E-05', '2.0000E-05', '2.0000E-05', '2.0000E-05', '2.0000E-05', '2.0000E-05', '2.0000E-05', '2.0000E-05', '2.0000E-05']\n"
     ]
    },
    {
     "data": {
      "text/plain": [
       "True"
      ]
     },
     "execution_count": 128,
     "metadata": {},
     "output_type": "execute_result"
    }
   ],
   "source": [
    "Mp_val2 = Mp_val.copy()\n",
    "print(Mp_val2)\n",
    "checkEqual3(Mp_val2)"
   ]
  },
  {
   "cell_type": "code",
   "execution_count": 129,
   "metadata": {},
   "outputs": [
    {
     "name": "stdout",
     "output_type": "stream",
     "text": [
      "['2.0000E-05', '2.0000E-05', '2.0000E-05', '2.0000E-05', '2.0000E-05', '2.0000E-05', '2.0000E-05', '2.0000E-05', '2.0000E-05', 'This should put a stop to things.']\n"
     ]
    },
    {
     "data": {
      "text/plain": [
       "False"
      ]
     },
     "execution_count": 129,
     "metadata": {},
     "output_type": "execute_result"
    }
   ],
   "source": [
    "Mp_val2.append(\"This should put a stop to things.\")\n",
    "print(Mp_val2)\n",
    "checkEqual3(Mp_val2)"
   ]
  },
  {
   "cell_type": "code",
   "execution_count": 131,
   "metadata": {},
   "outputs": [
    {
     "data": {
      "text/plain": [
       "['2.0000E-05',\n",
       " '2.0000E-05',\n",
       " '2.0000E-05',\n",
       " '2.0000E-05',\n",
       " '2.0000E-05',\n",
       " '2.0000E-05',\n",
       " '2.0000E-05',\n",
       " '2.0000E-05',\n",
       " 'This should put a stop to things.']"
      ]
     },
     "execution_count": 131,
     "metadata": {},
     "output_type": "execute_result"
    }
   ],
   "source": [
    "Mp_val2[1:]"
   ]
  },
  {
   "cell_type": "code",
   "execution_count": 132,
   "metadata": {},
   "outputs": [
    {
     "data": {
      "text/plain": [
       "['2.0000E-05',\n",
       " '2.0000E-05',\n",
       " '2.0000E-05',\n",
       " '2.0000E-05',\n",
       " '2.0000E-05',\n",
       " '2.0000E-05',\n",
       " '2.0000E-05',\n",
       " '2.0000E-05',\n",
       " '2.0000E-05']"
      ]
     },
     "execution_count": 132,
     "metadata": {},
     "output_type": "execute_result"
    }
   ],
   "source": [
    "Mp_val2[:-1]"
   ]
  },
  {
   "cell_type": "code",
   "execution_count": 143,
   "metadata": {},
   "outputs": [
    {
     "data": {
      "text/plain": [
       "['150.60566642', '35.51700474', '0.9880613']"
      ]
     },
     "execution_count": 143,
     "metadata": {},
     "output_type": "execute_result"
    }
   ],
   "source": [
    "Sun_val"
   ]
  },
  {
   "cell_type": "code",
   "execution_count": 145,
   "metadata": {},
   "outputs": [
    {
     "data": {
      "text/plain": [
       "str"
      ]
     },
     "execution_count": 145,
     "metadata": {},
     "output_type": "execute_result"
    }
   ],
   "source": [
    "type(Sun_val[1])"
   ]
  },
  {
   "cell_type": "code",
   "execution_count": 146,
   "metadata": {},
   "outputs": [
    {
     "data": {
      "text/plain": [
       "35.51700474"
      ]
     },
     "execution_count": 146,
     "metadata": {},
     "output_type": "execute_result"
    }
   ],
   "source": [
    "float(Sun_val[1])"
   ]
  },
  {
   "cell_type": "code",
   "execution_count": 150,
   "metadata": {},
   "outputs": [
    {
     "name": "stdout",
     "output_type": "stream",
     "text": [
      "2e-05\n",
      "-0.1\n",
      "35.51700474\n"
     ]
    }
   ],
   "source": [
    "# Now put it all together\n",
    "\n",
    "# Import libraries\n",
    "import re\n",
    "\n",
    "# Define functions\n",
    "\n",
    "# Check that values for list are equivalent.  Sourced from https://stackoverflow.com/questions/3844801/check-if-all-elements-in-a-list-are-identical\n",
    "\n",
    "def check_equal(some_list):\n",
    "    # return boolean of equality for 2nd element to end and 1st element to penultimate\n",
    "   return some_list[1:] == some_list[:-1]\n",
    "\n",
    "def get_val(some_list):\n",
    "    # extract value after \" = \" in list of strings\n",
    "    vals = [val.split(' = ')[1] for val in some_list]\n",
    "    return(vals)\n",
    "\n",
    "\n",
    "\n",
    "# Read in the MTL.txt file as a list of strings and clean it up\n",
    "# Initialize empty list for the lines of text\n",
    "mtl_list = []\n",
    "\n",
    "with open(fn, 'r') as f:\n",
    "    for line in f:\n",
    "        # strip the trailing newline character\n",
    "        line=line.rstrip()\n",
    "        # and strip the leading whitespaces, newline, and tab characters\n",
    "        line=line.lstrip()\n",
    "        # append this to the list\n",
    "        mtl_list.append(line)\n",
    "    \n",
    "# Use regular expressions to find matches for the Mp, Ap, and SunEl values\n",
    "Mp_pattern=re.compile(r\"(REFLECTANCE_MULT).*\")\n",
    "Ap_pattern=re.compile(r\"(REFLECTANCE_ADD).*\")\n",
    "Sun_pattern=re.compile(r\"(SUN_).*\")\n",
    "\n",
    "# iterate through each line in the list and return matches\n",
    "Mp_list = [m.group() for line in mtl_list for m in [Mp_pattern.search(line)] if m]\n",
    "\n",
    "Ap_list = [m.group() for line in mtl_list for m in [Ap_pattern.search(line)] if m]\n",
    "\n",
    "Sun_list = [m.group() for line in mtl_list for m in [Sun_pattern.search(line)] if m]\n",
    "\n",
    "# Extract values\n",
    "\n",
    "# extract corresponding value (i.e. the bit after \" = \")\n",
    "Mp_val = get_val(Mp_list)\n",
    "Ap_val = get_val(Ap_list)\n",
    "Sun_val = get_val(Sun_list)\n",
    "\n",
    "\n",
    "# Check that each band has the same value for Mp and Ap, and save extracted values as floats in the Mp, Ap, and sunel variables to be used in L8_toa_refl calculations.  Otherwise, flag it and tell the user to check the MTL file\n",
    "\n",
    "if check_equal(Mp_val):\n",
    "    Mp=float(Mp_val[0])\n",
    "else:\n",
    "    print(\"Mp values are not equal, examine MTL file\")\n",
    "    print(Mp_list)\n",
    "        \n",
    "if check_equal(Ap_val):\n",
    "    Ap=float(Ap_val[0])\n",
    "else:\n",
    "    print(\"Ap values are not equal, examine MTL file\")\n",
    "    print(Ap_list)\n",
    "\n",
    "if (float(Sun_val[1]) <= 90.0 and float(Sun_val[1]) >=0.0):\n",
    "    sunelev = Sun_val[1]\n",
    "else:\n",
    "    print(\"Sun elevation value out of bounds, examine MTL file\")\n",
    "    print(Sun_val)\n",
    "    \n",
    "print(Mp)\n",
    "print(Ap)\n",
    "print(sunelev)"
   ]
  },
  {
   "cell_type": "code",
   "execution_count": null,
   "metadata": {},
   "outputs": [],
   "source": []
  }
 ],
 "metadata": {
  "kernelspec": {
   "display_name": "Landsat TOA Conversion",
   "language": "python",
   "name": "landsat_toa_env"
  },
  "language_info": {
   "codemirror_mode": {
    "name": "ipython",
    "version": 3
   },
   "file_extension": ".py",
   "mimetype": "text/x-python",
   "name": "python",
   "nbconvert_exporter": "python",
   "pygments_lexer": "ipython3",
   "version": "3.7.2"
  }
 },
 "nbformat": 4,
 "nbformat_minor": 2
}
